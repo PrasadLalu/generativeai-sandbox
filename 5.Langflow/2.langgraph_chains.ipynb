{
 "cells": [
  {
   "cell_type": "markdown",
   "id": "2cacd7e1",
   "metadata": {},
   "source": [
    "## Langgraph Chain\n",
    "Review\n",
    "We built a simple graph with nodes, normal edges, and conditional edges.\n",
    "\n",
    "Goals\n",
    "Now, let's build up to a simple chain that combines 4 concepts:\n",
    "\n",
    "Using chat messages as our graph state\n",
    "Using chat models in graph nodes\n",
    "Binding tools to our chat model\n",
    "Executing tool calls in graph nodes"
   ]
  },
  {
   "cell_type": "code",
   "execution_count": 3,
   "id": "50657f76",
   "metadata": {},
   "outputs": [
    {
     "name": "stdout",
     "output_type": "stream",
     "text": [
      "==================================\u001b[1m Ai Message \u001b[0m==================================\n",
      "Name: Model\n",
      "\n",
      "So you said you were researching ocean mammals?\n",
      "================================\u001b[1m Human Message \u001b[0m=================================\n",
      "Name: Lance\n",
      "\n",
      "Yes, that's right.\n",
      "==================================\u001b[1m Ai Message \u001b[0m==================================\n",
      "Name: Model\n",
      "\n",
      "Great, what would you like to learn about.\n",
      "================================\u001b[1m Human Message \u001b[0m=================================\n",
      "Name: Lance\n",
      "\n",
      "I want to learn about the best place to see Orcas in the US.\n"
     ]
    }
   ],
   "source": [
    "from langchain_core.messages import AIMessage, HumanMessage\n",
    "\n",
    "messages = [AIMessage(content=f\"So you said you were researching ocean mammals?\", name=\"Model\")]\n",
    "messages.append(HumanMessage(content=f\"Yes, that's right.\",name=\"Lance\"))\n",
    "messages.append(AIMessage(content=f\"Great, what would you like to learn about.\", name=\"Model\"))\n",
    "messages.append(HumanMessage(content=f\"I want to learn about the best place to see Orcas in the US.\", name=\"Lance\"))\n",
    "\n",
    "for message in messages:\n",
    "    message.pretty_print()"
   ]
  },
  {
   "cell_type": "code",
   "execution_count": 4,
   "id": "6ba07cc8",
   "metadata": {},
   "outputs": [
    {
     "data": {
      "text/plain": [
       "ChatGroq(client=<groq.resources.chat.completions.Completions object at 0x000001CBEC49E900>, async_client=<groq.resources.chat.completions.AsyncCompletions object at 0x000001CBEC49F4D0>, model_name='gemma2-9b-it', model_kwargs={}, groq_api_key=SecretStr('**********'))"
      ]
     },
     "execution_count": 4,
     "metadata": {},
     "output_type": "execute_result"
    }
   ],
   "source": [
    "from dotenv import load_dotenv\n",
    "from langchain_groq import ChatGroq\n",
    "\n",
    "load_dotenv()\n",
    "llm = ChatGroq(model=\"gemma2-9b-it\")\n",
    "llm"
   ]
  },
  {
   "cell_type": "code",
   "execution_count": 6,
   "id": "28e49353",
   "metadata": {},
   "outputs": [
    {
     "data": {
      "text/plain": [
       "AIMessage(content=\"You're in for a treat! Orcas, also known as killer whales, are magnificent creatures. \\n\\n**The Pacific Northwest is renowned for its incredible orca viewing opportunities.**  Here are some of the best spots:\\n\\n* **San Juan Islands, Washington:** This archipelago is considered a prime orca watching destination.  \\n    * **Why?** The islands lie within the orcas' migration routes and feeding grounds. \\n    * **Where?**  Popular spots include Friday Harbor, Lopez Island, and Orcas Island.\\n    * **Tip:**  Many whale watching tours operate from here, offering the best chance to see these majestic animals.\\n\\n* **Whidbey Island, Washington:**\\n    * **Why?**  Whidbey Island offers a more secluded and less crowded option for orca viewing compared to the San Juans.\\n    * **Where?**  Look out for orcas near Deception Pass and the southern end of the island.\\n    * **Tip:**  Consider renting a kayak or taking a boat tour.\\n\\n* **Southern California:**\\n    * **Why?** Although not as abundant as in the Pacific Northwest, you can still see orcas off the coast of Southern California.\\n    * **Where?**  Look for sightings near Los Angeles, Dana Point, and San Diego.\\n    * **Tip:**  Join a whale watching tour for the best chances.\\n\\n**Important Considerations:**\\n\\n* **Season:** Orcas are more likely to be seen in the summer and fall months.\\n* **Weather:** Check the weather forecast before heading out, as rough seas can make viewing difficult.\\n* **Responsible Viewing:** Keep a safe distance from orcas, avoid making loud noises, and follow the guidance of tour operators or marine biologists.\\n\\n\\nLet me know if you have any other questions about seeing orcas or other ocean mammals!\\n\", additional_kwargs={}, response_metadata={'token_usage': {'completion_tokens': 391, 'prompt_tokens': 71, 'total_tokens': 462, 'completion_time': 0.710909091, 'prompt_time': 0.0039932, 'queue_time': 0.243058121, 'total_time': 0.714902291}, 'model_name': 'gemma2-9b-it', 'system_fingerprint': 'fp_10c08bf97d', 'finish_reason': 'stop', 'logprobs': None}, id='run--4511d988-4f87-45b9-9a44-381aa8c3df10-0', usage_metadata={'input_tokens': 71, 'output_tokens': 391, 'total_tokens': 462})"
      ]
     },
     "execution_count": 6,
     "metadata": {},
     "output_type": "execute_result"
    }
   ],
   "source": [
    "llm.invoke(messages)"
   ]
  },
  {
   "cell_type": "code",
   "execution_count": null,
   "id": "3b2a781b",
   "metadata": {},
   "outputs": [
    {
     "data": {
      "text/plain": [
       "RunnableBinding(bound=ChatGroq(client=<groq.resources.chat.completions.Completions object at 0x000001CBEC49E900>, async_client=<groq.resources.chat.completions.AsyncCompletions object at 0x000001CBEC49F4D0>, model_name='gemma2-9b-it', model_kwargs={}, groq_api_key=SecretStr('**********')), kwargs={'tools': [{'type': 'function', 'function': {'name': 'add', 'description': 'Add a and b\\nArgs:\\n    a: First integer\\n    b: Second integer    ', 'parameters': {'properties': {'a': {'type': 'integer'}, 'b': {'type': 'integer'}}, 'required': ['a', 'b'], 'type': 'object'}}}]}, config={}, config_factories=[])"
      ]
     },
     "execution_count": 8,
     "metadata": {},
     "output_type": "execute_result"
    }
   ],
   "source": [
    "def add(a:int, b:int)->int:\n",
    "    \"\"\"\n",
    "    Add a and b\n",
    "    Args:\n",
    "        a: First integer\n",
    "        b: Second integer    \n",
    "    \"\"\"\n",
    "    return a + b\n",
    "    \n",
    "llm_with_tools = llm.bind_tools([add])\n",
    "llm_with_tools"
   ]
  },
  {
   "cell_type": "code",
   "execution_count": 9,
   "id": "13d8428f",
   "metadata": {},
   "outputs": [
    {
     "data": {
      "text/plain": [
       "AIMessage(content='', additional_kwargs={'tool_calls': [{'id': 'ghyfztmtr', 'function': {'arguments': '{\"a\":2,\"b\":3}', 'name': 'add'}, 'type': 'function'}]}, response_metadata={'token_usage': {'completion_tokens': 85, 'prompt_tokens': 981, 'total_tokens': 1066, 'completion_time': 0.154545455, 'prompt_time': 0.034272993, 'queue_time': 0.24342309599999998, 'total_time': 0.188818448}, 'model_name': 'gemma2-9b-it', 'system_fingerprint': 'fp_10c08bf97d', 'finish_reason': 'tool_calls', 'logprobs': None}, id='run--59ba8788-363f-40c5-8b82-a46028d74616-0', tool_calls=[{'name': 'add', 'args': {'a': 2, 'b': 3}, 'id': 'ghyfztmtr', 'type': 'tool_call'}], usage_metadata={'input_tokens': 981, 'output_tokens': 85, 'total_tokens': 1066})"
      ]
     },
     "execution_count": 9,
     "metadata": {},
     "output_type": "execute_result"
    }
   ],
   "source": [
    "tool_call = llm_with_tools.invoke([HumanMessage(content=f\"What is 2 plus 3\", name=\"Lance\")])\n",
    "tool_call"
   ]
  },
  {
   "cell_type": "code",
   "execution_count": 10,
   "id": "0f68b57e",
   "metadata": {},
   "outputs": [
    {
     "data": {
      "text/plain": [
       "[{'name': 'add',\n",
       "  'args': {'a': 2, 'b': 3},\n",
       "  'id': 'ghyfztmtr',\n",
       "  'type': 'tool_call'}]"
      ]
     },
     "execution_count": 10,
     "metadata": {},
     "output_type": "execute_result"
    }
   ],
   "source": [
    "tool_call.tool_calls"
   ]
  },
  {
   "cell_type": "code",
   "execution_count": 16,
   "id": "720b76f1",
   "metadata": {},
   "outputs": [],
   "source": [
    "from typing import Annotated\n",
    "from typing_extensions import TypedDict\n",
    "from langchain_core.messages import AnyMessage, AIMessage\n",
    "from langgraph.graph import add_messages\n",
    "\n",
    "class MessageState(TypedDict):\n",
    "    messages: Annotated[list[AnyMessage], add_messages]"
   ]
  },
  {
   "cell_type": "code",
   "execution_count": 17,
   "id": "0f2ca02f",
   "metadata": {},
   "outputs": [
    {
     "data": {
      "text/plain": [
       "[AIMessage(content='Hello! How can I assist you?', additional_kwargs={}, response_metadata={}, name='Model', id='b56668fd-39ad-49e3-9162-21aa5cc0bf42'),\n",
       " HumanMessage(content=\"I'm looking for information on generative ai.\", additional_kwargs={}, response_metadata={}, name='Arya', id='bad67ff0-9b03-4fb2-9694-6ca1d1ff1e5c'),\n",
       " AIMessage(content='Sure, I can help with that. What specifically are you interested in?', additional_kwargs={}, response_metadata={}, name='Model', id='75109528-6b4d-4cac-ae61-ca3dc460fb6c')]"
      ]
     },
     "execution_count": 17,
     "metadata": {},
     "output_type": "execute_result"
    }
   ],
   "source": [
    "initial_message=[\n",
    "    AIMessage(content=\"Hello! How can I assist you?\", name=\"Model\"),\n",
    "    HumanMessage(content=\"I'm looking for information on generative ai.\", name=\"Arya\")\n",
    "]\n",
    "\n",
    "# New message to add\n",
    "new_message = AIMessage(content=\"Sure, I can help with that. What specifically are you interested in?\", name=\"Model\")\n",
    "add_messages(initial_message, new_message)"
   ]
  },
  {
   "cell_type": "code",
   "execution_count": 27,
   "id": "b657b0fa",
   "metadata": {},
   "outputs": [
    {
     "data": {
      "image/png": "[encoded data removed]",
      "text/plain": [
       "<IPython.core.display.Image object>"
      ]
     },
     "metadata": {},
     "output_type": "display_data"
    }
   ],
   "source": [
    "from IPython.display import display, Image\n",
    "from langgraph.graph import StateGraph, START, END, MessagesState\n",
    "\n",
    "def tool_calling_llm(state: MessagesState):\n",
    "    return { \"messages\": [llm.invoke(state[\"messages\"])]}\n",
    "\n",
    "# Build Graph\n",
    "builder = StateGraph(MessagesState)\n",
    "\n",
    "builder.add_node(\"tool_calling_llm\", tool_calling_llm)\n",
    "\n",
    "builder.add_edge(START, \"tool_calling_llm\")\n",
    "builder.add_edge(\"tool_calling_llm\", END)\n",
    "\n",
    "graph = builder.compile()\n",
    "\n",
    "display(Image(graph.get_graph().draw_mermaid_png()))"
   ]
  },
  {
   "cell_type": "code",
   "execution_count": 28,
   "id": "c654a084",
   "metadata": {},
   "outputs": [
    {
     "name": "stdout",
     "output_type": "stream",
     "text": [
      "================================\u001b[1m Human Message \u001b[0m=================================\n",
      "\n",
      "What is 10 plus 30\n",
      "==================================\u001b[1m Ai Message \u001b[0m==================================\n",
      "\n",
      "10 plus 30 equals 40.\n"
     ]
    }
   ],
   "source": [
    "messages=graph.invoke({\"messages\":HumanMessage(content=\"What is 10 plus 30\")})\n",
    "for m in messages['messages']:\n",
    "    m.pretty_print()"
   ]
  },
  {
   "cell_type": "markdown",
   "id": "b19f946b",
   "metadata": {},
   "source": [
    "### Tools\n",
    "Tools are useful whenever you want a model to interact with external systems.\n",
    "\n",
    "External systems (e.g., APIs) often require a particular input schema or payload, rather than natural language.\n",
    "When we bind an API, for example, as a tool we given the model awareness of the required input schema.\n",
    "\n",
    "The model will choose to call a tool based upon the natural language input from the user.\n",
    "And, it will return an output that adheres to the tool's schema.\n",
    "\n",
    "Many LLM providers support tool calling and tool calling interface in LangChain is simple.\n",
    "You can simply pass any Python function into ChatModel.bind_tools(function)."
   ]
  },
  {
   "cell_type": "code",
   "execution_count": 29,
   "id": "42d0297f",
   "metadata": {},
   "outputs": [],
   "source": [
    "def multiply(a: int, b: int) -> int:\n",
    "    \"\"\"Multiply a and b.\n",
    "\n",
    "    Args:\n",
    "        a: first int\n",
    "        b: second int\n",
    "    \"\"\"\n",
    "    return a * b"
   ]
  },
  {
   "cell_type": "code",
   "execution_count": 24,
   "id": "ad83a938",
   "metadata": {},
   "outputs": [
    {
     "data": {
      "text/plain": [
       "RunnableBinding(bound=ChatGroq(client=<groq.resources.chat.completions.Completions object at 0x000001CBEC49E900>, async_client=<groq.resources.chat.completions.AsyncCompletions object at 0x000001CBEC49F4D0>, model_name='gemma2-9b-it', model_kwargs={}, groq_api_key=SecretStr('**********')), kwargs={'tools': [{'type': 'function', 'function': {'name': 'add', 'description': 'Add a and b\\nArgs:\\n    a: First integer\\n    b: Second integer    ', 'parameters': {'properties': {'a': {'type': 'integer'}, 'b': {'type': 'integer'}}, 'required': ['a', 'b'], 'type': 'object'}}}, {'type': 'function', 'function': {'name': 'multiply', 'description': 'Multiply a and b.', 'parameters': {'properties': {'a': {'description': 'first int', 'type': 'integer'}, 'b': {'description': 'second int', 'type': 'integer'}}, 'required': ['a', 'b'], 'type': 'object'}}}]}, config={}, config_factories=[])"
      ]
     },
     "execution_count": 24,
     "metadata": {},
     "output_type": "execute_result"
    }
   ],
   "source": [
    "llm_with_tools = llm.bind_tools([add, multiply])\n",
    "llm_with_tools"
   ]
  },
  {
   "cell_type": "code",
   "execution_count": 30,
   "id": "a3b87634",
   "metadata": {},
   "outputs": [
    {
     "data": {
      "image/png": "[encoded data removed]",
      "text/plain": [
       "<IPython.core.display.Image object>"
      ]
     },
     "metadata": {},
     "output_type": "display_data"
    }
   ],
   "source": [
    "from langgraph.graph import StateGraph, START, END\n",
    "from langgraph.prebuilt import ToolNode, tools_condition\n",
    "\n",
    "def tool_calling_llm(state=MessagesState):\n",
    "    return { \"messages\": [llm_with_tools.invoke(state[\"messages\"])]}\n",
    "\n",
    "# Build Graph\n",
    "builder = StateGraph(MessagesState)\n",
    "\n",
    "builder.add_node(\"tool_calling_llm\", tool_calling_llm)\n",
    "builder.add_node(\"tools\", ToolNode([add, multiply]))\n",
    "\n",
    "builder.add_edge(START, \"tool_calling_llm\")\n",
    "builder.add_conditional_edges(\n",
    "    \"tool_calling_llm\",\n",
    "    tools_condition\n",
    ")\n",
    "builder.add_edge(\"tools\", END)\n",
    "\n",
    "graph = builder.compile()\n",
    "\n",
    "display(Image(graph.get_graph().draw_mermaid_png()))"
   ]
  },
  {
   "cell_type": "code",
   "execution_count": 31,
   "id": "583bb983",
   "metadata": {},
   "outputs": [
    {
     "name": "stdout",
     "output_type": "stream",
     "text": [
      "================================\u001b[1m Human Message \u001b[0m=================================\n",
      "\n",
      "Add 3 and 4. Multiply the output by 2 and add 5.\n",
      "==================================\u001b[1m Ai Message \u001b[0m==================================\n",
      "Tool Calls:\n",
      "  add (2jm5e9pay)\n",
      " Call ID: 2jm5e9pay\n",
      "  Args:\n",
      "    a: 3\n",
      "    b: 4\n",
      "=================================\u001b[1m Tool Message \u001b[0m=================================\n",
      "Name: add\n",
      "\n",
      "7\n"
     ]
    }
   ],
   "source": [
    "from langchain_core.messages import HumanMessage\n",
    "\n",
    "messages = [HumanMessage(content=\"Add 3 and 4. Multiply the output by 2 and add 5.\")]\n",
    "messages = graph.invoke({\"messages\": messages})\n",
    "\n",
    "for m in messages['messages']:\n",
    "    m.pretty_print()"
   ]
  },
  {
   "cell_type": "code",
   "execution_count": null,
   "id": "264c852b",
   "metadata": {},
   "outputs": [
    {
     "data": {
      "image/png": "[encoded data removed]",
      "text/plain": [
       "<IPython.core.display.Image object>"
      ]
     },
     "metadata": {},
     "output_type": "display_data"
    }
   ],
   "source": [
    "from dotenv import load_dotenv\n",
    "from langchain_groq import ChatGroq\n",
    "from IPython.display import display, Image\n",
    "from langgraph.prebuilt import ToolNode, tools_condition\n",
    "from langgraph.graph import MessagesState, StateGraph, START, END\n",
    "\n",
    "# Load environment variables\n",
    "load_dotenv()\n",
    "\n",
    "# Define tool functions\n",
    "def add(a:int, b:int) -> int:\n",
    "    \"\"\"Add a and b\n",
    "    Args:\n",
    "        a: first integer number\n",
    "        b: second integer number\n",
    "    Return:\n",
    "        Sum of a and b\n",
    "    \"\"\"\n",
    "    return a + b\n",
    "\n",
    "def multiply(a:int, b:int) -> int:\n",
    "    \"\"\"Multiply a and b\n",
    "    Args:\n",
    "        a: first intger number\n",
    "        b: second intger number\n",
    "    Return:\n",
    "        Multication of a and b\n",
    "    \"\"\"\n",
    "    return a * b\n",
    "\n",
    "def divide(a:int, b:int) -> float:\n",
    "    \"\"\"Divide a by b\n",
    "    Args:\n",
    "        a: first intger number\n",
    "        b: second intger number\n",
    "    \"\"\"\n",
    "    return a / b\n",
    "\n",
    "# Define Gemm2 model\n",
    "llm = ChatGroq(model=\"gemma2-9b-it\")\n",
    "llm.invoke(\"What is Generative AI?\")\n",
    "\n",
    "# Bind tools with LLM\n",
    "llm_with_tools = llm.bind_tools([add, multiply])\n",
    "\n",
    "# Define state\n",
    "def tool_calling_llm(state: MessagesState):\n",
    "    return {'messages': [llm_with_tools.invoke(state['messages'])]}\n",
    "\n",
    "# Build Graph\n",
    "builder = StateGraph(MessagesState)\n",
    "\n",
    "# Add nodes\n",
    "builder.add_node('tool_calling_llm', tool_calling_llm)\n",
    "builder.add_node('tools', ToolNode([add, multiply]))\n",
    "\n",
    "# Connect node edges\n",
    "builder.add_edge(START, 'tool_calling_llm')\n",
    "builder.add_conditional_edges(\n",
    "    'tool_calling_llm',\n",
    "    tools_condition    \n",
    ")\n",
    "builder.add_edge('tools', END)\n",
    "\n",
    "# Compile graph builder\n",
    "graph = builder.compile()\n",
    "\n",
    "# Display workflow\n",
    "display(Image(graph.get_graph().draw_mermaid_png()))"
   ]
  },
  {
   "cell_type": "code",
   "execution_count": 7,
   "id": "e9fb3fe4",
   "metadata": {},
   "outputs": [
    {
     "name": "stdout",
     "output_type": "stream",
     "text": [
      "================================\u001b[1m Human Message \u001b[0m=================================\n",
      "\n",
      "Add 3 and 4. Then the result multiply by 5 and add 15.\n",
      "==================================\u001b[1m Ai Message \u001b[0m==================================\n",
      "Tool Calls:\n",
      "  add (zq63ccxw6)\n",
      " Call ID: zq63ccxw6\n",
      "  Args:\n",
      "    a: 3\n",
      "    b: 4\n",
      "=================================\u001b[1m Tool Message \u001b[0m=================================\n",
      "Name: add\n",
      "\n",
      "7\n"
     ]
    }
   ],
   "source": [
    "from langchain_core.messages import HumanMessage\n",
    "messages = [HumanMessage(content=\"Add 3 and 4. Then the result multiply by 5 and add 15.\")]\n",
    "messages = graph.invoke({\"messages\": messages})\n",
    "for m in messages['messages']:\n",
    "    m.pretty_print()"
   ]
  },
  {
   "cell_type": "markdown",
   "id": "fad83a5a",
   "metadata": {},
   "source": [
    "### LLM with Tools"
   ]
  },
  {
   "cell_type": "code",
   "execution_count": 26,
   "id": "f4e43d69",
   "metadata": {},
   "outputs": [
    {
     "data": {
      "image/png": "[encoded data removed]",
      "text/plain": [
       "<IPython.core.display.Image object>"
      ]
     },
     "metadata": {},
     "output_type": "display_data"
    }
   ],
   "source": [
    "from dotenv import load_dotenv\n",
    "from typing_extensions import TypedDict\n",
    "from typing import Annotated\n",
    "from langchain_core.messages import AnyMessage, SystemMessage\n",
    "from langgraph.graph import add_messages\n",
    "from langchain_groq import ChatGroq\n",
    "from langchain_openai import ChatOpenAI\n",
    "from IPython.display import display, Image\n",
    "from langgraph.prebuilt import ToolNode, tools_condition\n",
    "from langgraph.graph import MessagesState, StateGraph, START, END\n",
    "\n",
    "# Load environment variables\n",
    "load_dotenv()\n",
    "\n",
    "# Define tool functions\n",
    "def add(a:int, b:int) -> int:\n",
    "    \"\"\"Add a and b\n",
    "    Args:\n",
    "        a: first integer number\n",
    "        b: second integer number\n",
    "    Return:\n",
    "        Sum of a and b\n",
    "    \"\"\"\n",
    "    return a + b\n",
    "\n",
    "def multiply(a:int, b:int) -> int:\n",
    "    \"\"\"Multiply a and b\n",
    "    Args:\n",
    "        a: first intger number\n",
    "        b: second intger number\n",
    "    Return:\n",
    "        Multication of a and b\n",
    "    \"\"\"\n",
    "    return a * b\n",
    "\n",
    "def divide(a:int, b:int) -> float:\n",
    "    \"\"\"Divide a by b\n",
    "    Args:\n",
    "        a: first intger number\n",
    "        b: second intger number\n",
    "    \"\"\"\n",
    "    return a / b\n",
    "\n",
    "# Define Gemm2 model\n",
    "# llm = ChatGroq(model=\"gemma2-9b-it\")\n",
    "llm = ChatOpenAI(model=\"gpt-4o-mini\")\n",
    "# llm = ChatGroq(model='llama-3.1-8b-instant')\n",
    "llm.invoke(\"What is Generative AI?\")\n",
    "\n",
    "# Bind tools with LLM\n",
    "llm_with_tools = llm.bind_tools([add, multiply], parallel_tool_calls=False)\n",
    "\n",
    "# System message\n",
    "system_message = SystemMessage(content='You are a helpful assistant tasked with performing arithmetic on a set of inputs.')\n",
    "\n",
    "# Define state\n",
    "class MessageState(TypedDict):\n",
    "    messages: Annotated[list[AnyMessage], add_messages]\n",
    "    \n",
    "def assistant(state: MessageState):\n",
    "    return {'messages': [llm_with_tools.invoke([system_message] + state['messages'])]}\n",
    "\n",
    "# Build Graph\n",
    "builder = StateGraph(MessagesState)\n",
    "\n",
    "builder.add_node('assistant', assistant)\n",
    "builder.add_node('tools', ToolNode([add, multiply, divide]))\n",
    "\n",
    "builder.add_edge(START, 'assistant')\n",
    "builder.add_conditional_edges(\n",
    "    'assistant',\n",
    "    tools_condition\n",
    ")\n",
    "builder.add_edge('tools', 'assistant')\n",
    "\n",
    "graph = builder.compile()\n",
    "\n",
    "display(Image(graph.get_graph().draw_mermaid_png()))"
   ]
  },
  {
   "cell_type": "code",
   "execution_count": 27,
   "id": "58b78e1d",
   "metadata": {},
   "outputs": [
    {
     "name": "stdout",
     "output_type": "stream",
     "text": [
      "================================\u001b[1m Human Message \u001b[0m=================================\n",
      "\n",
      "Add 3 and 4. Then the result multiply by 5 and add 15. Then divide the result by 10.\n",
      "==================================\u001b[1m Ai Message \u001b[0m==================================\n",
      "Tool Calls:\n",
      "  add (call_2xDiBTn5viDDKAN62LLYAvB9)\n",
      " Call ID: call_2xDiBTn5viDDKAN62LLYAvB9\n",
      "  Args:\n",
      "    a: 3\n",
      "    b: 4\n",
      "=================================\u001b[1m Tool Message \u001b[0m=================================\n",
      "Name: add\n",
      "\n",
      "7\n",
      "==================================\u001b[1m Ai Message \u001b[0m==================================\n",
      "Tool Calls:\n",
      "  multiply (call_bGguplfyVIrV4ZYr3WE2e7gf)\n",
      " Call ID: call_bGguplfyVIrV4ZYr3WE2e7gf\n",
      "  Args:\n",
      "    a: 7\n",
      "    b: 5\n",
      "=================================\u001b[1m Tool Message \u001b[0m=================================\n",
      "Name: multiply\n",
      "\n",
      "35\n",
      "==================================\u001b[1m Ai Message \u001b[0m==================================\n",
      "Tool Calls:\n",
      "  add (call_vg0CEY6k3e5G57ouz9sHeRbw)\n",
      " Call ID: call_vg0CEY6k3e5G57ouz9sHeRbw\n",
      "  Args:\n",
      "    a: 35\n",
      "    b: 15\n",
      "=================================\u001b[1m Tool Message \u001b[0m=================================\n",
      "Name: add\n",
      "\n",
      "50\n",
      "==================================\u001b[1m Ai Message \u001b[0m==================================\n",
      "Tool Calls:\n",
      "  multiply (call_88xwmHjYrkaP7i8xZhMgSqEy)\n",
      " Call ID: call_88xwmHjYrkaP7i8xZhMgSqEy\n",
      "  Args:\n",
      "    a: 50\n",
      "    b: 1\n",
      "=================================\u001b[1m Tool Message \u001b[0m=================================\n",
      "Name: multiply\n",
      "\n",
      "50\n",
      "==================================\u001b[1m Ai Message \u001b[0m==================================\n",
      "Tool Calls:\n",
      "  multiply (call_3cI7c7a0CyZY2X9bg5LgIgP5)\n",
      " Call ID: call_3cI7c7a0CyZY2X9bg5LgIgP5\n",
      "  Args:\n",
      "    a: 50\n",
      "    b: 1\n",
      "=================================\u001b[1m Tool Message \u001b[0m=================================\n",
      "Name: multiply\n",
      "\n",
      "50\n",
      "==================================\u001b[1m Ai Message \u001b[0m==================================\n",
      "Tool Calls:\n",
      "  multiply (call_UPGbs2txwDeTnkWggNB9kHKf)\n",
      " Call ID: call_UPGbs2txwDeTnkWggNB9kHKf\n",
      "  Args:\n",
      "    a: 50\n",
      "    b: 1\n",
      "=================================\u001b[1m Tool Message \u001b[0m=================================\n",
      "Name: multiply\n",
      "\n",
      "50\n",
      "==================================\u001b[1m Ai Message \u001b[0m==================================\n",
      "\n",
      "The final result, after performing all the operations, is 5.\n"
     ]
    }
   ],
   "source": [
    "from langchain_core.messages import HumanMessage\n",
    "messages = [HumanMessage(content=\"Add 3 and 4. Then the result multiply by 5 and add 15. Then divide the result by 10.\")]\n",
    "messages = graph.invoke({\"messages\": messages})\n",
    "for m in messages['messages']:\n",
    "    m.pretty_print()"
   ]
  },
  {
   "cell_type": "markdown",
   "id": "7344738e",
   "metadata": {},
   "source": [
    "## Memory in Agents Using MemoryServer"
   ]
  },
  {
   "cell_type": "code",
   "execution_count": 29,
   "id": "9b1b4254",
   "metadata": {},
   "outputs": [
    {
     "data": {
      "image/png": "[encoded data removed]",
      "text/plain": [
       "<langgraph.graph.state.CompiledStateGraph object at 0x0000021A5C266C10>"
      ]
     },
     "execution_count": 29,
     "metadata": {},
     "output_type": "execute_result"
    }
   ],
   "source": [
    "from langgraph.checkpoint.memory import MemorySaver\n",
    "\n",
    "memory = MemorySaver()\n",
    "\n",
    "react_graph = builder.compile(checkpointer=memory)\n",
    "react_graph"
   ]
  },
  {
   "cell_type": "code",
   "execution_count": 30,
   "id": "9178c4ea",
   "metadata": {},
   "outputs": [
    {
     "name": "stdout",
     "output_type": "stream",
     "text": [
      "================================\u001b[1m Human Message \u001b[0m=================================\n",
      "\n",
      "Add 3 and 4\n",
      "==================================\u001b[1m Ai Message \u001b[0m==================================\n",
      "Tool Calls:\n",
      "  add (call_mYMttKsgbDhU78lDVDh0Z1be)\n",
      " Call ID: call_mYMttKsgbDhU78lDVDh0Z1be\n",
      "  Args:\n",
      "    a: 3\n",
      "    b: 4\n",
      "=================================\u001b[1m Tool Message \u001b[0m=================================\n",
      "Name: add\n",
      "\n",
      "7\n",
      "==================================\u001b[1m Ai Message \u001b[0m==================================\n",
      "\n",
      "The sum of 3 and 4 is 7.\n"
     ]
    }
   ],
   "source": [
    "config = {'configurable': {'thread_id': '1'}}\n",
    "\n",
    "messages = [HumanMessage(content='Add 3 and 4')]\n",
    "\n",
    "messages = react_graph.invoke({'messages': messages}, config)\n",
    "for message in messages['messages']:\n",
    "    message.pretty_print()"
   ]
  },
  {
   "cell_type": "code",
   "execution_count": 31,
   "id": "b0e40db8",
   "metadata": {},
   "outputs": [
    {
     "name": "stdout",
     "output_type": "stream",
     "text": [
      "================================\u001b[1m Human Message \u001b[0m=================================\n",
      "\n",
      "Add 3 and 4\n",
      "==================================\u001b[1m Ai Message \u001b[0m==================================\n",
      "Tool Calls:\n",
      "  add (call_mYMttKsgbDhU78lDVDh0Z1be)\n",
      " Call ID: call_mYMttKsgbDhU78lDVDh0Z1be\n",
      "  Args:\n",
      "    a: 3\n",
      "    b: 4\n",
      "=================================\u001b[1m Tool Message \u001b[0m=================================\n",
      "Name: add\n",
      "\n",
      "7\n",
      "==================================\u001b[1m Ai Message \u001b[0m==================================\n",
      "\n",
      "The sum of 3 and 4 is 7.\n",
      "================================\u001b[1m Human Message \u001b[0m=================================\n",
      "\n",
      "Multiply by 2\n",
      "==================================\u001b[1m Ai Message \u001b[0m==================================\n",
      "Tool Calls:\n",
      "  multiply (call_r5PLOQZ7HkdmF1VsUg6bcS9X)\n",
      " Call ID: call_r5PLOQZ7HkdmF1VsUg6bcS9X\n",
      "  Args:\n",
      "    a: 7\n",
      "    b: 2\n",
      "=================================\u001b[1m Tool Message \u001b[0m=================================\n",
      "Name: multiply\n",
      "\n",
      "14\n",
      "==================================\u001b[1m Ai Message \u001b[0m==================================\n",
      "\n",
      "The result of multiplying 7 by 2 is 14.\n"
     ]
    }
   ],
   "source": [
    "messages = [HumanMessage(content='Multiply by 2')]\n",
    "\n",
    "messages = react_graph.invoke({'messages': messages}, config)\n",
    "for message in messages['messages']:\n",
    "    message.pretty_print()"
   ]
  },
  {
   "cell_type": "code",
   "execution_count": null,
   "id": "a2996342",
   "metadata": {},
   "outputs": [],
   "source": []
  }
 ],
 "metadata": {
  "kernelspec": {
   "display_name": "myenv",
   "language": "python",
   "name": "python3"
  },
  "language_info": {
   "codemirror_mode": {
    "name": "ipython",
    "version": 3
   },
   "file_extension": ".py",
   "mimetype": "text/x-python",
   "name": "python",
   "nbconvert_exporter": "python",
   "pygments_lexer": "ipython3",
   "version": "3.13.3"
  }
 },
 "nbformat": 4,
 "nbformat_minor": 5
}
