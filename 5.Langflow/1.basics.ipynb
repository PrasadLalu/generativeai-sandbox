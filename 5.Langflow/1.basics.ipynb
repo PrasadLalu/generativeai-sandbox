{
 "cells": [
  {
   "cell_type": "markdown",
   "id": "13d7fb6e",
   "metadata": {},
   "source": [
    "## Basics"
   ]
  },
  {
   "cell_type": "code",
   "execution_count": 1,
   "id": "20292d8c",
   "metadata": {},
   "outputs": [
    {
     "data": {
      "text/plain": [
       "True"
      ]
     },
     "execution_count": 1,
     "metadata": {},
     "output_type": "execute_result"
    }
   ],
   "source": [
    "from dotenv import load_dotenv\n",
    "\n",
    "# Load environment variables\n",
    "load_dotenv()"
   ]
  },
  {
   "cell_type": "code",
   "execution_count": 2,
   "id": "e8ccdeef",
   "metadata": {},
   "outputs": [],
   "source": [
    "import random\n",
    "from typing import Literal\n",
    "from typing_extensions import TypedDict\n",
    "\n",
    "class State(TypedDict):\n",
    "    graph_state: str\n",
    "    \n",
    "\n",
    "def first_node(state):\n",
    "    print(\"First node is called!\")\n",
    "    return { \"graph_state\": state['graph_state'] + \"I am playing \" }\n",
    "\n",
    "def second_node(state):\n",
    "    print(\"Second node is called!!\")\n",
    "    return { \"graph_state\": state['graph_state'] + \"cricket\" }\n",
    "\n",
    "def third_node(state):\n",
    "    print(\"Third node is called!!!\")\n",
    "    return { \"graph_state\": state[\"graph_state\"] + \"football\" }\n",
    "\n",
    "def decide_play(state) -> Literal[\"second_node\", \"third_node\"]:\n",
    "    graph_state = state[\"graph_state\"]\n",
    "    \n",
    "    if random.random() < 0.5:\n",
    "        return \"second_node\"\n",
    "    \n",
    "    return \"third_node\""
   ]
  },
  {
   "cell_type": "code",
   "execution_count": 5,
   "id": "f909bd4a",
   "metadata": {},
   "outputs": [
    {
     "data": {
      "image/png": "[encoded data removed]",
      "text/plain": [
       "<IPython.core.display.Image object>"
      ]
     },
     "metadata": {},
     "output_type": "display_data"
    }
   ],
   "source": [
    "# Building Graph\n",
    "from IPython.display import display, Image\n",
    "from langgraph.graph import START, END, StateGraph\n",
    "\n",
    "builder = StateGraph(State)\n",
    "\n",
    "builder.add_node(\"first_node\", first_node)\n",
    "builder.add_node(\"second_node\", second_node)\n",
    "builder.add_node(\"third_node\", third_node)\n",
    "\n",
    "builder.add_edge(START, \"first_node\")\n",
    "builder.add_conditional_edges(\"first_node\", decide_play)\n",
    "builder.add_edge(\"second_node\", END)\n",
    "builder.add_edge(\"third_node\", END)\n",
    "\n",
    "graph = builder.compile()\n",
    "\n",
    "display(Image(graph.get_graph().draw_mermaid_png()))"
   ]
  },
  {
   "cell_type": "markdown",
   "id": "1bb6c9c0",
   "metadata": {},
   "source": [
    "## Chatbot"
   ]
  },
  {
   "cell_type": "code",
   "execution_count": 6,
   "id": "6738d8dc",
   "metadata": {},
   "outputs": [],
   "source": [
    "from typing import Annotated\n",
    "from typing_extensions import TypedDict\n",
    "from langgraph.graph.message import add_messages\n",
    "\n",
    "# Define state\n",
    "class State(TypedDict):\n",
    "    messages: Annotated[list, add_messages]"
   ]
  },
  {
   "cell_type": "code",
   "execution_count": 13,
   "id": "e4364d9c",
   "metadata": {},
   "outputs": [
    {
     "data": {
      "text/plain": [
       "ChatGroq(client=<groq.resources.chat.completions.Completions object at 0x00000243B3A65590>, async_client=<groq.resources.chat.completions.AsyncCompletions object at 0x00000243B3A65F90>, model_name='gemma2-9b-it', model_kwargs={}, groq_api_key=SecretStr('**********'))"
      ]
     },
     "execution_count": 13,
     "metadata": {},
     "output_type": "execute_result"
    }
   ],
   "source": [
    "from dotenv import load_dotenv\n",
    "from langchain_groq import ChatGroq\n",
    "\n",
    "# Load environment variables\n",
    "load_dotenv()\n",
    "\n",
    "# Define Gemma model\n",
    "llm = ChatGroq(model=\"gemma2-9b-it\")\n",
    "llm"
   ]
  },
  {
   "cell_type": "code",
   "execution_count": 8,
   "id": "b8d400cb",
   "metadata": {},
   "outputs": [],
   "source": [
    "def chatbot(state: State):\n",
    "    return { \"messages\": [llm.invoke(state[\"messages\"])]}"
   ]
  },
  {
   "cell_type": "code",
   "execution_count": 11,
   "id": "e68bb5e0",
   "metadata": {},
   "outputs": [
    {
     "data": {
      "image/png": "[encoded data removed]",
      "text/plain": [
       "<langgraph.graph.state.CompiledStateGraph object at 0x00000243ABB14190>"
      ]
     },
     "execution_count": 11,
     "metadata": {},
     "output_type": "execute_result"
    }
   ],
   "source": [
    "from langgraph.graph import START, END, StateGraph\n",
    "\n",
    "builder = StateGraph(State)\n",
    "builder.add_node(\"chatbot\", chatbot)\n",
    "\n",
    "builder.add_edge(START, \"chatbot\")\n",
    "builder.add_edge(\"chatbot\", END)\n",
    "\n",
    "graph = builder.compile() \n",
    "graph"
   ]
  },
  {
   "cell_type": "code",
   "execution_count": 14,
   "id": "c837213a",
   "metadata": {},
   "outputs": [
    {
     "name": "stdout",
     "output_type": "stream",
     "text": [
      "Assistant: Hi there! 👋\n",
      "\n",
      "How can I help you today?\n",
      "\n",
      "Assistant: Imagine you're teaching a dog a new trick. You show it what to do, reward it when it gets it right, and correct it when it makes mistakes. Over time, the dog learns the trick through these examples and feedback.\n",
      "\n",
      "Machine learning is similar! It's a type of artificial intelligence where computers learn from data instead of being explicitly programmed. \n",
      "\n",
      "Here's a breakdown:\n",
      "\n",
      "**Key Concepts:**\n",
      "\n",
      "* **Data:** Machine learning algorithms learn from vast amounts of data. This data can be anything: images, text, numbers, audio, etc.\n",
      "* **Algorithms:** These are sets of instructions that the computer uses to analyze the data and learn patterns.\n",
      "* **Training:** This is the process of feeding the algorithm data and letting it learn.\n",
      "\n",
      "**How it Works:**\n",
      "\n",
      "1. **Data Collection:** Gather relevant data for the task you want the machine to learn.\n",
      "\n",
      "2. **Data Preparation:** Clean and organize the data so the algorithm can understand it.\n",
      "\n",
      "3. **Algorithm Selection:** Choose the right algorithm for the type of task (e.g., classification, prediction, clustering).\n",
      "\n",
      "4. **Training:** Feed the data to the algorithm and adjust its parameters to improve its performance.\n",
      "\n",
      "5. **Evaluation:** Test the trained algorithm on new data to see how well it generalizes.\n",
      "\n",
      "6. **Deployment:** Use the trained algorithm to make predictions or decisions on real-world data.\n",
      "\n",
      "**Types of Machine Learning:**\n",
      "\n",
      "* **Supervised Learning:** The algorithm learns from labeled data (e.g., images labeled \"cat\" or \"dog\").\n",
      "* **Unsupervised Learning:** The algorithm learns from unlabeled data and finds patterns on its own (e.g., grouping customers based on their buying habits).\n",
      "* **Reinforcement Learning:** The algorithm learns by interacting with an environment and receiving rewards or penalties (e.g., training a game-playing AI).\n",
      "\n",
      "**Examples:**\n",
      "\n",
      "* **Recommender Systems:** Netflix suggesting movies you might like.\n",
      "* **Spam Filters:** Identifying and blocking unwanted emails.\n",
      "* **Image Recognition:** Google Photos automatically tagging faces.\n",
      "* **Medical Diagnosis:** Helping doctors detect diseases from medical images.\n",
      "\n",
      "\n",
      "Machine learning is a powerful tool that is transforming many industries. Its ability to learn from data and improve over time is opening up new possibilities for solving complex problems.\n",
      "\n",
      "Assistant: Agentic AI refers to artificial intelligence systems that exhibit **autonomous agency**. \n",
      "\n",
      "This means they can:\n",
      "\n",
      "* **Set their own goals:** Agentic AI can define its objectives and pursue them independently, rather than simply following pre-programmed instructions.\n",
      "* **Make decisions:** They can analyze situations, weigh options, and choose actions to achieve their goals.\n",
      "* **Take actions:** Agentic AI can interact with their environment and execute the chosen actions.\n",
      "* **Learn and adapt:** They can learn from experiences, refine their strategies, and adjust their behavior based on feedback.\n",
      "\n",
      "Essentially, agentic AI strives to mimic human-like decision-making and goal-directed behavior.\n",
      "\n",
      "**Examples of Agentic AI:**\n",
      "\n",
      "* **Self-driving cars:** They perceive their surroundings, make decisions about navigation, and control the vehicle to reach their destination.\n",
      "* **Robotics:** Industrial robots that can autonomously perform tasks, learn new procedures, and adapt to changes in the workspace.\n",
      "* **Game-playing AI:** AI agents that can learn to play games strategically, develop their own strategies, and compete against human players.\n",
      "\n",
      "**Challenges of Agentic AI:**\n",
      "\n",
      "* **Safety and ethics:** Ensuring that agentic AI systems act safely and responsibly is crucial. Unforeseen consequences or malicious intent can be dangerous.\n",
      "* **Explainability and transparency:** Understanding how agentic AI makes decisions can be challenging, which raises concerns about accountability and trust.\n",
      "* **Control and alignment:** It's important to ensure that agentic AI systems remain aligned with human values and goals, and can be effectively controlled.\n",
      "\n",
      "Agentic AI is a rapidly developing field with immense potential, but it also presents significant challenges that need to be addressed carefully.\n",
      "\n",
      "Assistant: Please provide me with more context! \"Quite\" is a word with many uses. \n",
      "\n",
      "Do you want to know:\n",
      "\n",
      "* **What \"quite\" means?** \n",
      "* **How to use \"quite\" in a sentence?**\n",
      "* **Synonyms for \"quite\"?**\n",
      "* **Something else entirely?**\n",
      "\n",
      "\n",
      "Let me know and I'll be happy to help! 😊  \n",
      "\n",
      "Goodbye!\n"
     ]
    }
   ],
   "source": [
    "def stream_graph_updates(user_input: str):\n",
    "    for event in graph.stream({\"messages\": [{\"role\": \"user\", \"content\": user_input}]}):\n",
    "        for value in event.values():\n",
    "            print(\"Assistant:\", value[\"messages\"][-1].content)\n",
    "\n",
    "\n",
    "while True:\n",
    "    try:\n",
    "        user_input = input(\"User: \")\n",
    "        if user_input.lower() in [\"quit\", \"exit\", \"q\"]:\n",
    "            print(\"Goodbye!\")\n",
    "            break\n",
    "        stream_graph_updates(user_input)\n",
    "    except:\n",
    "        # fallback if input() is not available\n",
    "        user_input = \"What do you know about LangGraph?\"\n",
    "        print(\"User: \" + user_input)\n",
    "        stream_graph_updates(user_input)\n",
    "        break"
   ]
  },
  {
   "cell_type": "code",
   "execution_count": null,
   "id": "0f7704a6",
   "metadata": {},
   "outputs": [],
   "source": []
  }
 ],
 "metadata": {
  "kernelspec": {
   "display_name": "myenv",
   "language": "python",
   "name": "python3"
  },
  "language_info": {
   "codemirror_mode": {
    "name": "ipython",
    "version": 3
   },
   "file_extension": ".py",
   "mimetype": "text/x-python",
   "name": "python",
   "nbconvert_exporter": "python",
   "pygments_lexer": "ipython3",
   "version": "3.13.3"
  }
 },
 "nbformat": 4,
 "nbformat_minor": 5
}
